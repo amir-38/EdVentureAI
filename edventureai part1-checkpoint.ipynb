{
 "cells": [
  {
   "cell_type": "code",
   "execution_count": 3,
   "id": "1c5a23ec",
   "metadata": {},
   "outputs": [
    {
     "ename": "KeyError",
     "evalue": "'answers'",
     "output_type": "error",
     "traceback": [
      "\u001b[1;31m---------------------------------------------------------------------------\u001b[0m",
      "\u001b[1;31mKeyError\u001b[0m                                  Traceback (most recent call last)",
      "Input \u001b[1;32mIn [3]\u001b[0m, in \u001b[0;36m<cell line: 48>\u001b[1;34m()\u001b[0m\n\u001b[0;32m     60\u001b[0m     time\u001b[38;5;241m.\u001b[39msleep(\u001b[38;5;241m10\u001b[39m)\n\u001b[0;32m     61\u001b[0m     \u001b[38;5;28;01mcontinue\u001b[39;00m\n\u001b[1;32m---> 63\u001b[0m response \u001b[38;5;241m=\u001b[39m \u001b[43msend_json_to_gpt\u001b[49m\u001b[43m(\u001b[49m\u001b[43mjson_file_path\u001b[49m\u001b[43m)\u001b[49m\n\u001b[0;32m     64\u001b[0m recom_dict \u001b[38;5;241m=\u001b[39m {\u001b[38;5;124m\"\u001b[39m\u001b[38;5;124mRecomendations\u001b[39m\u001b[38;5;124m\"\u001b[39m: response}\n\u001b[0;32m     66\u001b[0m file_path \u001b[38;5;241m=\u001b[39m \u001b[38;5;124m'\u001b[39m\u001b[38;5;124mrecomendations.json\u001b[39m\u001b[38;5;124m'\u001b[39m\n",
      "Input \u001b[1;32mIn [3]\u001b[0m, in \u001b[0;36msend_json_to_gpt\u001b[1;34m(file_path)\u001b[0m\n\u001b[0;32m     13\u001b[0m \u001b[38;5;28;01mwith\u001b[39;00m \u001b[38;5;28mopen\u001b[39m(file_path, \u001b[38;5;124m'\u001b[39m\u001b[38;5;124mr\u001b[39m\u001b[38;5;124m'\u001b[39m) \u001b[38;5;28;01mas\u001b[39;00m file:\n\u001b[0;32m     14\u001b[0m     input_data \u001b[38;5;241m=\u001b[39m json\u001b[38;5;241m.\u001b[39mload(file)\n\u001b[1;32m---> 15\u001b[0m     group_id \u001b[38;5;241m=\u001b[39m \u001b[38;5;28mstr\u001b[39m(\u001b[43minput_data\u001b[49m\u001b[43m[\u001b[49m\u001b[38;5;124;43m'\u001b[39;49m\u001b[38;5;124;43manswers\u001b[39;49m\u001b[38;5;124;43m'\u001b[39;49m\u001b[43m]\u001b[49m[\u001b[38;5;124m'\u001b[39m\u001b[38;5;124mgroupId\u001b[39m\u001b[38;5;124m'\u001b[39m])\n\u001b[0;32m     17\u001b[0m gpt_prompt \u001b[38;5;241m=\u001b[39m \u001b[38;5;124mf\u001b[39m\u001b[38;5;124m'''\u001b[39m\u001b[38;5;124mmənim bir startupum var, \u001b[39m\n\u001b[0;32m     18\u001b[0m \u001b[38;5;124mşagirdin verdiyi cavablara əsasən onun hansı ixtisasa uyğun olduğunu müəyyən etmək istəyirəm. \u001b[39m\n\u001b[0;32m     19\u001b[0m \u001b[38;5;124mŞagirdə verdiyim suallar və onun verdiyi cavablar \u001b[39m\u001b[38;5;132;01m{\u001b[39;00minput_data[\u001b[38;5;124m'\u001b[39m\u001b[38;5;124manswers\u001b[39m\u001b[38;5;124m'\u001b[39m][\u001b[38;5;124m'\u001b[39m\u001b[38;5;124manswers\u001b[39m\u001b[38;5;124m'\u001b[39m]\u001b[38;5;132;01m}\u001b[39;00m\u001b[38;5;124m bunlardır. \u001b[39m\n\u001b[0;32m     20\u001b[0m \u001b[38;5;124mŞagirdin cavablarına əsasən, aşağıdakı ixtisaslardan hansına daha uyğun olduğunu faizlə və izahlı şəkildə yaz. \u001b[39m\n\u001b[0;32m     21\u001b[0m \u001b[38;5;124mÜmumi top 5 ixtisas yaz: \u001b[39m\u001b[38;5;132;01m{\u001b[39;00mixtisaslar_dict[group_id]\u001b[38;5;132;01m}\u001b[39;00m\u001b[38;5;124m.\u001b[39m\n\u001b[0;32m     22\u001b[0m \u001b[38;5;124mÜçüncü şəxslə danışırmış kimi yox, şagirdlə danışırmış kimi cavabla\u001b[39m\u001b[38;5;124m'''\u001b[39m\n\u001b[0;32m     24\u001b[0m message\u001b[38;5;241m=\u001b[39m[{\u001b[38;5;124m\"\u001b[39m\u001b[38;5;124mrole\u001b[39m\u001b[38;5;124m\"\u001b[39m: \u001b[38;5;124m\"\u001b[39m\u001b[38;5;124muser\u001b[39m\u001b[38;5;124m\"\u001b[39m, \u001b[38;5;124m\"\u001b[39m\u001b[38;5;124mcontent\u001b[39m\u001b[38;5;124m\"\u001b[39m: gpt_prompt}]\n",
      "\u001b[1;31mKeyError\u001b[0m: 'answers'"
     ]
    }
   ],
   "source": [
    "import openai\n",
    "import json\n",
    "import time\n",
    "import os\n",
    "\n",
    "openai.api_key = 'key'\n",
    "\n",
    "\n",
    "with open('ixtisaslar.json', 'r') as file:\n",
    "        ixtisaslar_dict = json.load(file)\n",
    "\n",
    "def send_json_to_gpt(file_path):\n",
    "    with open(file_path, 'r') as file:\n",
    "        input_data = json.load(file)\n",
    "        group_id = str(input_data['answers']['groupId'])\n",
    "\n",
    "    gpt_prompt = f'''mənim bir startupum var, \n",
    "    şagirdin verdiyi cavablara əsasən onun hansı ixtisasa uyğun olduğunu müəyyən etmək istəyirəm. \n",
    "    Şagirdə verdiyim suallar və onun verdiyi cavablar {input_data['answers']['answers']} bunlardır. \n",
    "    Şagirdin cavablarına əsasən, aşağıdakı ixtisaslardan hansına daha uyğun olduğunu faizlə və izahlı şəkildə yaz. \n",
    "    Ümumi top 5 ixtisas yaz: {ixtisaslar_dict[group_id]}.\n",
    "    Üçüncü şəxslə danışırmış kimi yox, şagirdlə danışırmış kimi cavabla'''\n",
    "\n",
    "    message=[{\"role\": \"user\", \"content\": gpt_prompt}]\n",
    "    response = openai.ChatCompletion.create(\n",
    "        model=\"gpt-4\",\n",
    "        messages = message,\n",
    "        temperature=0.2,\n",
    "        max_tokens=5012,\n",
    "        frequency_penalty=0.0\n",
    "    )\n",
    "    result = response['choices'][0]['message']['content']\n",
    "\n",
    "    return result\n",
    "\n",
    "\n",
    "def read_json_file(file_path):\n",
    "    with open(file_path, 'r') as file:\n",
    "        data = json.load(file)\n",
    "        return data\n",
    "\n",
    "def clear_json_file(file_path):\n",
    "    with open(file_path, 'w') as file:\n",
    "        json.dump({}, file)\n",
    "\n",
    "\n",
    "while True:\n",
    "    json_file_path = r'C:\\Users\\AmirS\\Desktop\\Новая папка\\db.json'\n",
    "    \n",
    "    previous_content = None\n",
    "    current_content = read_json_file(json_file_path)\n",
    "\n",
    "    if current_content != previous_content:\n",
    "        time.sleep(10)\n",
    "\n",
    "        try:\n",
    "            with open(json_file_path, 'r'):\n",
    "                pass\n",
    "        except FileNotFoundError:\n",
    "            time.sleep(10)\n",
    "            continue\n",
    "\n",
    "        response = send_json_to_gpt(json_file_path)\n",
    "        recom_dict = {\"Recomendations\": response}\n",
    "\n",
    "        file_path = 'recomendations.json'\n",
    "        with open(file_path, 'w') as json_file:\n",
    "            json.dump(recom_dict, json_file)\n",
    "        clear_json_file(json_file_path)\n"
   ]
  },
  {
   "cell_type": "code",
   "execution_count": 5,
   "id": "4c3ee157",
   "metadata": {},
   "outputs": [
    {
     "data": {
      "text/plain": [
       "{'answers': {'groupId': 2,\n",
       "  'answers': {'9.Hansı fəaliyyətlərə və ya hobbilərə vaxt ayırmağı xoşlayırsınız?': 'ljl,'}}}"
      ]
     },
     "execution_count": 5,
     "metadata": {},
     "output_type": "execute_result"
    }
   ],
   "source": [
    "import json \n",
    "json_file_path = r'C:\\Users\\AmirS\\Desktop\\Новая папка\\db.json'\n",
    "with open(json_file_path, 'r', encoding='utf-8') as file:\n",
    "        input_data = json.load(file)\n",
    "input_data"
   ]
  },
  {
   "cell_type": "code",
   "execution_count": null,
   "id": "e9844d6c",
   "metadata": {},
   "outputs": [],
   "source": []
  }
 ],
 "metadata": {
  "kernelspec": {
   "display_name": "Python 3 (ipykernel)",
   "language": "python",
   "name": "python3"
  },
  "language_info": {
   "codemirror_mode": {
    "name": "ipython",
    "version": 3
   },
   "file_extension": ".py",
   "mimetype": "text/x-python",
   "name": "python",
   "nbconvert_exporter": "python",
   "pygments_lexer": "ipython3",
   "version": "3.11.5"
  }
 },
 "nbformat": 4,
 "nbformat_minor": 5
}
